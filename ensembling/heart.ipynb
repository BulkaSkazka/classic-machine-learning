{
 "cells": [
  {
   "cell_type": "code",
   "execution_count": 1,
   "id": "f5682984",
   "metadata": {},
   "outputs": [],
   "source": [
    "import pandas as pd\n",
    "import numpy as np\n",
    "from pandas import read_csv as read\n",
    "from sklearn.preprocessing import LabelEncoder\n",
    "import copy\n",
    "import matplotlib.pyplot as plt\n",
    "from sklearn.model_selection import train_test_split\n",
    "from sklearn.preprocessing import StandardScaler\n",
    "from sklearn.metrics import roc_curve\n",
    "from sklearn.metrics import roc_auc_score\n",
    "from sklearn import svm\n",
    "from sklearn.linear_model import LogisticRegression\n",
    "from sklearn.pipeline import make_pipeline\n",
    "from matplotlib import pyplot as plt\n",
    "from sklearn.datasets import fetch_california_housing\n",
    "from sklearn.metrics import mean_squared_error\n",
    "from sklearn.metrics import r2_score\n",
    "import math\n",
    "import seaborn as sns\n",
    "from sklearn.tree import DecisionTreeClassifier\n",
    "from sklearn.ensemble import RandomForestClassifier\n",
    "from sklearn.cluster import DBSCAN, KMeans\n",
    "from sklearn.metrics import classification_report\n",
    "from sklearn.ensemble import BaggingClassifier\n",
    "from sklearn.svm import LinearSVC\n",
    "from sklearn.ensemble import StackingClassifier"
   ]
  },
  {
   "cell_type": "code",
   "execution_count": 2,
   "id": "f161f8b4",
   "metadata": {},
   "outputs": [],
   "source": [
    "class Solver:\n",
    "    def __init__(self, data, y_name, lb_ecnoder_columns=[], dummies_columns=[]):\n",
    "        self.data=copy.deepcopy(data)\n",
    "        self.lb_ecnoder_columns = lb_ecnoder_columns\n",
    "        self.dummies_columns = dummies_columns\n",
    "        self.y_name = y_name\n",
    "        self.X = pd.DataFrame()\n",
    "        self.X_test = pd.DataFrame()\n",
    "        self.X_train = pd.DataFrame()\n",
    "        self.y = pd.DataFrame()\n",
    "        self.y_test = pd.DataFrame()\n",
    "        self.y_train = pd.DataFrame()\n",
    "        self._data_prep()\n",
    "\n",
    "        \n",
    "    def _data_prep(self):\n",
    "        #Подготовим данные (проработаем категориальные признаки, разобьем на тестовую и обучающую выборки)\n",
    "        self._ecnoder(self.lb_ecnoder_columns)\n",
    "        self.data = pd.get_dummies( self.data, columns = self.dummies_columns )\n",
    "        self.y = self.data[self.y_name]\n",
    "        self.X = copy.deepcopy(self.data)\n",
    "        del self.X[self.y_name]\n",
    "        self.X_train, self.X_test, self.y_train, self.y_test = train_test_split(self.X, self.y, test_size=0.2, random_state=666)\n",
    "    def _ecnoder(self,lb_ecnoder_columns):\n",
    "        for i in lb_ecnoder_columns:\n",
    "            le = LabelEncoder()\n",
    "            le.fit(self.data[i])\n",
    "            self.data[i]=le.transform(self.data[i])\n",
    "\n",
    "    def DTC_model(self, max_depth=None):\n",
    "        model_name = 'DecisionTreeClassifier'\n",
    "        model = DecisionTreeClassifier(max_depth=max_depth, random_state=73)\n",
    "        model.fit(self.X_train, self.y_train)\n",
    "        #print(f'Accuracy of {model_name} = {model.score(self.X_test, self.y_test)}')\n",
    "        print(classification_report(self.y_test, model.predict(self.X_test), target_names=['class 0', 'class 1']))\n",
    "        \n",
    "        \n",
    "    def RND_model(self, max_depth=None):\n",
    "        model_name = 'Random forest'\n",
    "        model = RandomForestClassifier(max_depth=max_depth, random_state=73)\n",
    "        model.fit(self.X_train, self.y_train)\n",
    "        #print(f'Accuracy of {model_name} = {model.score(self.X_test, self.y_test)}')\n",
    "        print(classification_report(self.y_test, model.predict(self.X_test), target_names=['class 0', 'class 1']))\n",
    "        self._featuring_imp(model,self.X_train.columns,10, model_name)\n",
    "        \n",
    "        \n",
    "    def Bagging_model(self, max_depth=None):\n",
    "        model_name = 'Bagging of DTC'\n",
    "        model = BaggingClassifier(base_estimator= RandomForestClassifier(), random_state=73)\n",
    "        model.fit(self.X_train, self.y_train)\n",
    "        #print(f'Accuracy of {model_name} = {model.score(self.X_test, self.y_test)}')\n",
    "        print(classification_report(self.y_test, model.predict(self.X_test), target_names=['class 0', 'class 1']))\n",
    "    \n",
    "    def Linear_SVC(self):\n",
    "        model_name = 'Linear_SVC'\n",
    "        model = make_pipeline(\n",
    "        StandardScaler(),\n",
    "        LinearSVC(random_state=73, max_iter=10000))\n",
    "        model.fit(self.X_train, self.y_train)\n",
    "        #print(f'accuracy of {model_name} = {model.score(self.X_test, self.y_test)}')\n",
    "        print(classification_report(self.y_test, model.predict(self.X_test), target_names=['class 0', 'class 1']))\n",
    "    def SC(self):\n",
    "        model_name = 'StackingClassifier'\n",
    "        estimators = [\n",
    "        ('DTC',DecisionTreeClassifier()),\n",
    "        ('rf', RandomForestClassifier()),\n",
    "        ('svr', make_pipeline(StandardScaler(),LinearSVC(max_iter=10000)))\n",
    "                     ]\n",
    "        model = StackingClassifier(estimators=estimators, final_estimator=LogisticRegression())\n",
    "        model.fit(self.X_train, self.y_train)\n",
    "        #print(f'accuracy of {model_name} = {model.score(self.X_test, self.y_test)}')\n",
    "        print(classification_report(self.y_test, model.predict(self.X_test), target_names=['class 0', 'class 1']))\n",
    "        \n",
    "        \n",
    "    def _featuring_imp(self,clf, feature_names, max_feat=-1, model_name='Модель'):\n",
    "        feature_imp = pd.Series(clf.feature_importances_,index=feature_names).sort_values(ascending=False)\n",
    "        feature_imp\n",
    "        %matplotlib inline\n",
    "        sns.barplot(x=feature_imp[:max_feat], y=feature_imp.index[:max_feat])\n",
    "        plt.xlabel('Важность признаков')\n",
    "        plt.ylabel('Признаки')\n",
    "        plt.title(model_name)\n",
    "        plt.show()"
   ]
  },
  {
   "cell_type": "code",
   "execution_count": 3,
   "id": "c0f192c1",
   "metadata": {},
   "outputs": [
    {
     "data": {
      "text/html": [
       "<div>\n",
       "<style scoped>\n",
       "    .dataframe tbody tr th:only-of-type {\n",
       "        vertical-align: middle;\n",
       "    }\n",
       "\n",
       "    .dataframe tbody tr th {\n",
       "        vertical-align: top;\n",
       "    }\n",
       "\n",
       "    .dataframe thead th {\n",
       "        text-align: right;\n",
       "    }\n",
       "</style>\n",
       "<table border=\"1\" class=\"dataframe\">\n",
       "  <thead>\n",
       "    <tr style=\"text-align: right;\">\n",
       "      <th></th>\n",
       "      <th>Age</th>\n",
       "      <th>Sex</th>\n",
       "      <th>ChestPainType</th>\n",
       "      <th>RestingBP</th>\n",
       "      <th>Cholesterol</th>\n",
       "      <th>FastingBS</th>\n",
       "      <th>RestingECG</th>\n",
       "      <th>MaxHR</th>\n",
       "      <th>ExerciseAngina</th>\n",
       "      <th>Oldpeak</th>\n",
       "      <th>ST_Slope</th>\n",
       "      <th>HeartDisease</th>\n",
       "    </tr>\n",
       "  </thead>\n",
       "  <tbody>\n",
       "    <tr>\n",
       "      <th>0</th>\n",
       "      <td>40</td>\n",
       "      <td>M</td>\n",
       "      <td>ATA</td>\n",
       "      <td>140</td>\n",
       "      <td>289</td>\n",
       "      <td>0</td>\n",
       "      <td>Normal</td>\n",
       "      <td>172</td>\n",
       "      <td>N</td>\n",
       "      <td>0.0</td>\n",
       "      <td>Up</td>\n",
       "      <td>0</td>\n",
       "    </tr>\n",
       "    <tr>\n",
       "      <th>1</th>\n",
       "      <td>49</td>\n",
       "      <td>F</td>\n",
       "      <td>NAP</td>\n",
       "      <td>160</td>\n",
       "      <td>180</td>\n",
       "      <td>0</td>\n",
       "      <td>Normal</td>\n",
       "      <td>156</td>\n",
       "      <td>N</td>\n",
       "      <td>1.0</td>\n",
       "      <td>Flat</td>\n",
       "      <td>1</td>\n",
       "    </tr>\n",
       "    <tr>\n",
       "      <th>2</th>\n",
       "      <td>37</td>\n",
       "      <td>M</td>\n",
       "      <td>ATA</td>\n",
       "      <td>130</td>\n",
       "      <td>283</td>\n",
       "      <td>0</td>\n",
       "      <td>ST</td>\n",
       "      <td>98</td>\n",
       "      <td>N</td>\n",
       "      <td>0.0</td>\n",
       "      <td>Up</td>\n",
       "      <td>0</td>\n",
       "    </tr>\n",
       "    <tr>\n",
       "      <th>3</th>\n",
       "      <td>48</td>\n",
       "      <td>F</td>\n",
       "      <td>ASY</td>\n",
       "      <td>138</td>\n",
       "      <td>214</td>\n",
       "      <td>0</td>\n",
       "      <td>Normal</td>\n",
       "      <td>108</td>\n",
       "      <td>Y</td>\n",
       "      <td>1.5</td>\n",
       "      <td>Flat</td>\n",
       "      <td>1</td>\n",
       "    </tr>\n",
       "    <tr>\n",
       "      <th>4</th>\n",
       "      <td>54</td>\n",
       "      <td>M</td>\n",
       "      <td>NAP</td>\n",
       "      <td>150</td>\n",
       "      <td>195</td>\n",
       "      <td>0</td>\n",
       "      <td>Normal</td>\n",
       "      <td>122</td>\n",
       "      <td>N</td>\n",
       "      <td>0.0</td>\n",
       "      <td>Up</td>\n",
       "      <td>0</td>\n",
       "    </tr>\n",
       "  </tbody>\n",
       "</table>\n",
       "</div>"
      ],
      "text/plain": [
       "   Age Sex ChestPainType  RestingBP  Cholesterol  FastingBS RestingECG  MaxHR  \\\n",
       "0   40   M           ATA        140          289          0     Normal    172   \n",
       "1   49   F           NAP        160          180          0     Normal    156   \n",
       "2   37   M           ATA        130          283          0         ST     98   \n",
       "3   48   F           ASY        138          214          0     Normal    108   \n",
       "4   54   M           NAP        150          195          0     Normal    122   \n",
       "\n",
       "  ExerciseAngina  Oldpeak ST_Slope  HeartDisease  \n",
       "0              N      0.0       Up             0  \n",
       "1              N      1.0     Flat             1  \n",
       "2              N      0.0       Up             0  \n",
       "3              Y      1.5     Flat             1  \n",
       "4              N      0.0       Up             0  "
      ]
     },
     "execution_count": 3,
     "metadata": {},
     "output_type": "execute_result"
    }
   ],
   "source": [
    "data = pd.read_csv('heart.csv')\n",
    "data.head()"
   ]
  },
  {
   "cell_type": "code",
   "execution_count": 4,
   "id": "c2473baf",
   "metadata": {},
   "outputs": [
    {
     "name": "stdout",
     "output_type": "stream",
     "text": [
      "<class 'pandas.core.frame.DataFrame'>\n",
      "RangeIndex: 918 entries, 0 to 917\n",
      "Data columns (total 12 columns):\n",
      " #   Column          Non-Null Count  Dtype  \n",
      "---  ------          --------------  -----  \n",
      " 0   Age             918 non-null    int64  \n",
      " 1   Sex             918 non-null    object \n",
      " 2   ChestPainType   918 non-null    object \n",
      " 3   RestingBP       918 non-null    int64  \n",
      " 4   Cholesterol     918 non-null    int64  \n",
      " 5   FastingBS       918 non-null    int64  \n",
      " 6   RestingECG      918 non-null    object \n",
      " 7   MaxHR           918 non-null    int64  \n",
      " 8   ExerciseAngina  918 non-null    object \n",
      " 9   Oldpeak         918 non-null    float64\n",
      " 10  ST_Slope        918 non-null    object \n",
      " 11  HeartDisease    918 non-null    int64  \n",
      "dtypes: float64(1), int64(6), object(5)\n",
      "memory usage: 86.2+ KB\n"
     ]
    }
   ],
   "source": [
    "data.info()"
   ]
  },
  {
   "cell_type": "code",
   "execution_count": 5,
   "id": "68a6a0f2",
   "metadata": {},
   "outputs": [],
   "source": [
    "lb_ecnoder_columns=['Sex','RestingECG','ExerciseAngina','ST_Slope']\n",
    "dummies_columns=['ChestPainType']"
   ]
  },
  {
   "cell_type": "code",
   "execution_count": 6,
   "id": "78745250",
   "metadata": {},
   "outputs": [],
   "source": [
    "sv = Solver(data=data, y_name='HeartDisease', lb_ecnoder_columns=lb_ecnoder_columns, dummies_columns=dummies_columns)"
   ]
  },
  {
   "cell_type": "code",
   "execution_count": 7,
   "id": "ca1d1ac4",
   "metadata": {},
   "outputs": [
    {
     "name": "stdout",
     "output_type": "stream",
     "text": [
      "              precision    recall  f1-score   support\n",
      "\n",
      "     class 0       0.79      0.75      0.77        81\n",
      "     class 1       0.81      0.84      0.83       103\n",
      "\n",
      "    accuracy                           0.80       184\n",
      "   macro avg       0.80      0.80      0.80       184\n",
      "weighted avg       0.80      0.80      0.80       184\n",
      "\n"
     ]
    }
   ],
   "source": [
    "sv.DTC_model()"
   ]
  },
  {
   "cell_type": "code",
   "execution_count": 8,
   "id": "088a8628",
   "metadata": {},
   "outputs": [
    {
     "name": "stdout",
     "output_type": "stream",
     "text": [
      "              precision    recall  f1-score   support\n",
      "\n",
      "     class 0       0.85      0.75      0.80        81\n",
      "     class 1       0.82      0.89      0.86       103\n",
      "\n",
      "    accuracy                           0.83       184\n",
      "   macro avg       0.83      0.82      0.83       184\n",
      "weighted avg       0.83      0.83      0.83       184\n",
      "\n"
     ]
    },
    {
     "data": {
      "image/png": "[encoded data removed]",
      "text/plain": [
       "<Figure size 432x288 with 1 Axes>"
      ]
     },
     "metadata": {
      "needs_background": "light"
     },
     "output_type": "display_data"
    }
   ],
   "source": [
    "sv.RND_model()"
   ]
  },
  {
   "cell_type": "code",
   "execution_count": 9,
   "id": "eae77ee9",
   "metadata": {},
   "outputs": [
    {
     "name": "stdout",
     "output_type": "stream",
     "text": [
      "              precision    recall  f1-score   support\n",
      "\n",
      "     class 0       0.85      0.74      0.79        81\n",
      "     class 1       0.81      0.89      0.85       103\n",
      "\n",
      "    accuracy                           0.83       184\n",
      "   macro avg       0.83      0.82      0.82       184\n",
      "weighted avg       0.83      0.83      0.82       184\n",
      "\n"
     ]
    }
   ],
   "source": [
    "sv.Bagging_model()"
   ]
  },
  {
   "cell_type": "code",
   "execution_count": 11,
   "id": "4ec36196",
   "metadata": {},
   "outputs": [
    {
     "name": "stdout",
     "output_type": "stream",
     "text": [
      "              precision    recall  f1-score   support\n",
      "\n",
      "     class 0       0.85      0.77      0.81        81\n",
      "     class 1       0.83      0.89      0.86       103\n",
      "\n",
      "    accuracy                           0.84       184\n",
      "   macro avg       0.84      0.83      0.83       184\n",
      "weighted avg       0.84      0.84      0.84       184\n",
      "\n"
     ]
    }
   ],
   "source": [
    "sv.SC()"
   ]
  },
  {
   "cell_type": "code",
   "execution_count": null,
   "id": "e66dde42",
   "metadata": {},
   "outputs": [],
   "source": []
  }
 ],
 "metadata": {
  "kernelspec": {
   "display_name": "Python 3",
   "language": "python",
   "name": "python3"
  },
  "language_info": {
   "codemirror_mode": {
    "name": "ipython",
    "version": 3
   },
   "file_extension": ".py",
   "mimetype": "text/x-python",
   "name": "python",
   "nbconvert_exporter": "python",
   "pygments_lexer": "ipython3",
   "version": "3.8.8"
  }
 },
 "nbformat": 4,
 "nbformat_minor": 5
}
